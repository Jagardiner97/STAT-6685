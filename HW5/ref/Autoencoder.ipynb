{
 "cells": [
  {
   "cell_type": "code",
   "execution_count": null,
   "metadata": {
    "colab": {},
    "colab_type": "code",
    "id": "QLt2wiims250"
   },
   "outputs": [],
   "source": [
    "'''\n",
    "\n",
    "#Enable GPU for this Exercise.\n",
    "\n",
    "'''"
   ]
  },
  {
   "cell_type": "code",
   "execution_count": null,
   "metadata": {
    "colab": {},
    "colab_type": "code",
    "id": "BfdGn-ZVP4EF"
   },
   "outputs": [],
   "source": [
    "import torch\n",
    "import torch.nn as nn\n",
    "import torch.nn.functional as F\n",
    "import torch.optim as optim\n",
    "import matplotlib.pyplot as plt\n",
    "from torchvision import datasets, transforms\n",
    "\n",
    "# This package is helpful to apply noise to our images\n",
    "import skimage\n",
    "\n",
    "#If CUDA is available, use CUDA or else default to CPU.\n",
    "device = 'cuda' if torch.cuda.is_available() else 'cpu'\n",
    "\n",
    "\n",
    "'''\n",
    "Import Mnist\n",
    "'''\n",
    "\n",
    "'''\n",
    "Normalize each input from [0.0,1.0] range\n",
    "'''\n",
    "\n",
    "\n",
    "'''\n",
    "Reshape X to have 4 dimension that is batch_size, channels, Height, Width\n",
    "'''\n"
   ]
  },
  {
   "cell_type": "code",
   "execution_count": null,
   "metadata": {},
   "outputs": [],
   "source": [
    "# create your training sets (X_train_GN) and (X_train_SP)"
   ]
  },
  {
   "cell_type": "code",
   "execution_count": null,
   "metadata": {
    "colab": {},
    "colab_type": "code",
    "id": "_l__S5TRP4Gk"
   },
   "outputs": [],
   "source": [
    "'''\n",
    "Create the arquitecture \n",
    "\n",
    "'''\n",
    "\n",
    "class Autoencoder(nn.Module):\n",
    "    def __init__(self):\n",
    "        super(Autoencoder, self).__init__()\n",
    "        # you can use sequential of not \n",
    "        self.encoder = nn.Sequential(     \n",
    "        )\n",
    "        self.decoder = nn.Sequential(\n",
    "        )\n",
    "\n",
    "    def forward(self, x):\n",
    "        x = self.encoder(x)\n",
    "        x = self.decoder(x)\n",
    "        return x"
   ]
  },
  {
   "cell_type": "code",
   "execution_count": null,
   "metadata": {
    "colab": {},
    "colab_type": "code",
    "id": "udjYfgTDQAPn"
   },
   "outputs": [],
   "source": [
    "\n",
    "'''\n",
    "Define your training routine,\n",
    "your optimizer, your loss function.\n",
    "Everything you need to train the model\n",
    "'''\n",
    "\n"
   ]
  },
  {
   "cell_type": "code",
   "execution_count": null,
   "metadata": {
    "colab": {
     "base_uri": "https://localhost:8080/",
     "height": 357
    },
    "colab_type": "code",
    "id": "Pd9glEwkQBLi",
    "outputId": "bec2ba8b-33f4-493b-e4b7-bb83dff36fe8",
    "scrolled": true
   },
   "outputs": [],
   "source": [
    "# define the netowrk to be train with the salt and peper corrupted images\n",
    "# train the network\n",
    "AutoNN_SP = Autoencoder().to(device)\n"
   ]
  },
  {
   "cell_type": "code",
   "execution_count": null,
   "metadata": {
    "colab": {},
    "colab_type": "code",
    "id": "-1QIiSBiQ_xG"
   },
   "outputs": [],
   "source": [
    "# define the netowrk to be train with the gaussian corrupted images\n",
    "# train the network \n",
    "AutoNN_GN = Autoencoder().to(device)"
   ]
  },
  {
   "cell_type": "code",
   "execution_count": null,
   "metadata": {
    "colab": {},
    "colab_type": "code",
    "id": "Cqg2uTd1Q_zr"
   },
   "outputs": [],
   "source": [
    "# corrupt test images with Salt and peper, pass them through AutoNN_SP \n",
    "# plot the results "
   ]
  },
  {
   "cell_type": "code",
   "execution_count": null,
   "metadata": {
    "colab": {},
    "colab_type": "code",
    "id": "T-Fk24OhQ_9z"
   },
   "outputs": [],
   "source": [
    "# corrupt test images with Gaussian noise, pass them through AutoNN_GN\n",
    "# plot the results "
   ]
  }
 ],
 "metadata": {
  "accelerator": "GPU",
  "colab": {
   "collapsed_sections": [],
   "name": "Autoencoder.ipynb",
   "provenance": []
  },
  "kernelspec": {
   "display_name": "Python 3",
   "language": "python",
   "name": "python3"
  },
  "language_info": {
   "codemirror_mode": {
    "name": "ipython",
    "version": 3
   },
   "file_extension": ".py",
   "mimetype": "text/x-python",
   "name": "python",
   "nbconvert_exporter": "python",
   "pygments_lexer": "ipython3",
   "version": "3.7.6"
  }
 },
 "nbformat": 4,
 "nbformat_minor": 1
}
