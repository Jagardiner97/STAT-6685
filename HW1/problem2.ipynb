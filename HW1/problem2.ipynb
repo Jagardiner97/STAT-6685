{
 "cells": [
  {
   "cell_type": "code",
   "execution_count": 1,
   "metadata": {},
   "outputs": [],
   "source": [
    "# import libraries\n",
    "import numpy as np\n",
    "from numpy import linalg as LA\n",
    "\n",
    "# Initialize the matrices\n",
    "A = np.matrix([[1, -2], [3, 4], [-5, 6]])\n",
    "B = np.matrix([[1, 0, 0], [0, 1, 0], [0, 0, 1]])\n",
    "C = np.matrix([[2, 2, 1], [2, 3, 2], [1, 2, 2]])\n",
    "\n",
    "AT = A.transpose()"
   ]
  },
  {
   "cell_type": "code",
   "execution_count": 2,
   "metadata": {},
   "outputs": [],
   "source": [
    "def type_check(eigenvalues):\n",
    "    greater = True\n",
    "    equal = True  \n",
    "    \n",
    "    for x in eigenvalues:\n",
    "        if x <= 0:\n",
    "            greater = False\n",
    "        if x < 0:\n",
    "            equal = False\n",
    "\n",
    "    if greater:\n",
    "        print(\"The Matrix is Positive Definite\")\n",
    "    elif equal:\n",
    "        print(\"The Matrix is Positive Semi-Definite\")\n",
    "    else:\n",
    "        print(\"The Matrix is neither PD or PSD\")  "
   ]
  },
  {
   "cell_type": "code",
   "execution_count": 3,
   "metadata": {},
   "outputs": [
    {
     "name": "stdout",
     "output_type": "stream",
     "text": [
      "3.b: A^T A\n",
      "[[ 35 -20]\n",
      " [-20  56]]\n",
      "Eigenvalues:  [22.911286 68.088714]\n",
      "The Matrix is Positive Definite\n"
     ]
    }
   ],
   "source": [
    "# b ATA\n",
    "print(\"3.b: A^T A\")\n",
    "ATA = np.matmul(AT, A)\n",
    "print(ATA)\n",
    "\n",
    "eig_vals_b, eig_vecs_b = LA.eig(ATA)\n",
    "print(\"Eigenvalues: \", eig_vals_b)\n",
    "\n",
    "type_check(eig_vals_b)"
   ]
  },
  {
   "cell_type": "code",
   "execution_count": 4,
   "metadata": {},
   "outputs": [
    {
     "name": "stdout",
     "output_type": "stream",
     "text": [
      "3.c: A A^T\n",
      "[[  5  -5 -17]\n",
      " [ -5  25   9]\n",
      " [-17   9  61]]\n",
      "Eigenvalues:  [ 6.80887140e+01 -4.88498131e-15  2.29112860e+01]\n",
      "The Matrix is neither PD or PSD\n"
     ]
    }
   ],
   "source": [
    "# c AAT\n",
    "print(\"3.c: A A^T\")\n",
    "AAT = np.matmul(A, AT)\n",
    "print(AAT)\n",
    "\n",
    "eig_vals_c, eig_vecs_c = LA.eig(AAT)\n",
    "print(\"Eigenvalues: \", eig_vals_c)\n",
    "\n",
    "type_check(eig_vals_c)"
   ]
  },
  {
   "cell_type": "code",
   "execution_count": 5,
   "metadata": {},
   "outputs": [
    {
     "name": "stdout",
     "output_type": "stream",
     "text": [
      "3.d: B\n",
      "Eigenvalues:  [1. 1. 1.]\n",
      "The Matrix is Positive Definite\n"
     ]
    }
   ],
   "source": [
    "# d B\n",
    "print(\"3.d: B\")\n",
    "\n",
    "eig_vals_d, eig_vecs_d = LA.eig(B)\n",
    "print(\"Eigenvalues: \", eig_vals_d)\n",
    "\n",
    "type_check(eig_vals_d)"
   ]
  },
  {
   "cell_type": "code",
   "execution_count": 6,
   "metadata": {},
   "outputs": [
    {
     "name": "stdout",
     "output_type": "stream",
     "text": [
      "3.e: -B\n",
      "Eigenvalues:  [-1. -1. -1.]\n",
      "The Matrix is neither PD or PSD\n"
     ]
    }
   ],
   "source": [
    "# e -B\n",
    "print(\"3.e: -B\")\n",
    "\n",
    "E = -B\n",
    "\n",
    "eig_vals_e, eig_vecs_e = LA.eig(E)\n",
    "print(\"Eigenvalues: \", eig_vals_e)\n",
    "\n",
    "type_check(eig_vals_e)"
   ]
  },
  {
   "cell_type": "code",
   "execution_count": 7,
   "metadata": {},
   "outputs": [
    {
     "name": "stdout",
     "output_type": "stream",
     "text": [
      "3.f: C\n",
      "Eigenvalues:  [5.82842712 1.         0.17157288]\n",
      "The Matrix is Positive Definite\n"
     ]
    }
   ],
   "source": [
    "# f C\n",
    "print(\"3.f: C\")\n",
    "\n",
    "eig_vals_f, eig_vecs_f = LA.eig(C)\n",
    "print(\"Eigenvalues: \", eig_vals_f)\n",
    "\n",
    "type_check(eig_vals_f)"
   ]
  },
  {
   "cell_type": "code",
   "execution_count": 8,
   "metadata": {},
   "outputs": [
    {
     "name": "stdout",
     "output_type": "stream",
     "text": [
      "3.g: C - 0.1 B\n",
      "Eigenvalues:  [5.72842712 0.9        0.07157288]\n",
      "The Matrix is Positive Definite\n"
     ]
    }
   ],
   "source": [
    "# g C - 0.1 B\n",
    "print(\"3.g: C - 0.1 B\")\n",
    "G = C - 0.1 * B\n",
    "\n",
    "eig_vals_g, eig_vecs_g = LA.eig(G)\n",
    "print(\"Eigenvalues: \", eig_vals_g)\n",
    "\n",
    "type_check(eig_vals_g)"
   ]
  },
  {
   "cell_type": "code",
   "execution_count": 9,
   "metadata": {},
   "outputs": [
    {
     "name": "stdout",
     "output_type": "stream",
     "text": [
      "3.h: C - 0.01 AAT\n",
      "Eigenvalues:  [ 5.60967481  0.51610854 -0.03578335]\n",
      "The Matrix is neither PD or PSD\n"
     ]
    }
   ],
   "source": [
    "# h C - 0.01 AAT\n",
    "print(\"3.h: C - 0.01 AAT\")\n",
    "H = C - 0.01 * AAT\n",
    "\n",
    "eig_vals_h, eig_vecs_h = LA.eig(H)\n",
    "print(\"Eigenvalues: \", eig_vals_h)\n",
    "\n",
    "type_check(eig_vals_h)"
   ]
  }
 ],
 "metadata": {
  "kernelspec": {
   "display_name": "Python 3",
   "language": "python",
   "name": "python3"
  },
  "language_info": {
   "codemirror_mode": {
    "name": "ipython",
    "version": 3
   },
   "file_extension": ".py",
   "mimetype": "text/x-python",
   "name": "python",
   "nbconvert_exporter": "python",
   "pygments_lexer": "ipython3",
   "version": "3.7.4"
  },
  "orig_nbformat": 4
 },
 "nbformat": 4,
 "nbformat_minor": 2
}
