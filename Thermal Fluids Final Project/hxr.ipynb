{
 "cells": [
  {
   "cell_type": "code",
   "execution_count": 1,
   "id": "initial_id",
   "metadata": {
    "collapsed": true,
    "ExecuteTime": {
     "end_time": "2023-12-13T04:00:51.126506800Z",
     "start_time": "2023-12-13T04:00:51.088695Z"
    }
   },
   "outputs": [],
   "source": [
    "# Import packages\n",
    "import math"
   ]
  },
  {
   "cell_type": "code",
   "execution_count": 2,
   "outputs": [],
   "source": [
    "# Define physical properties\n",
    "length = 8  # m\n",
    "delta_h = 12  # in.\n",
    "thickness = 0.5  # mm\n",
    "D_i = 0.8  # cm\n",
    "D_o = 1.2  # cm\n",
    "minor_losses = 25\n",
    "V_wort = 6  # gal\n",
    "T_0_wort = 200  # F\n",
    "T_f_wort = 70  # F\n",
    "T_city = 50  # F\n",
    "P_water = 80  # psi"
   ],
   "metadata": {
    "collapsed": false,
    "ExecuteTime": {
     "end_time": "2023-12-13T04:00:51.130475400Z",
     "start_time": "2023-12-13T04:00:51.113029900Z"
    }
   },
   "id": "110b86c7aa94f36b"
  },
  {
   "cell_type": "code",
   "execution_count": 3,
   "outputs": [],
   "source": [
    "# Define material properties\n",
    "k_tube = 15  # W/m*K\n",
    "Nu = 50  # both sides\n",
    "P_atm = 101325  # Pa\n",
    "g = 9.81  # m/s^2"
   ],
   "metadata": {
    "collapsed": false,
    "ExecuteTime": {
     "end_time": "2023-12-13T04:00:51.160730400Z",
     "start_time": "2023-12-13T04:00:51.128491200Z"
    }
   },
   "id": "8f4e9865e75264e2"
  },
  {
   "cell_type": "code",
   "execution_count": 4,
   "outputs": [],
   "source": [
    "# Unit conversion functions\n",
    "def in_to_m(measurement):\n",
    "    return 0.0254 * measurement\n",
    "\n",
    "def mm_to_m(measurement):\n",
    "    return measurement / 1000\n",
    "\n",
    "def cm_to_m(measurement):\n",
    "    return measurement / 100\n",
    "\n",
    "def gal_to_m3(measurement):\n",
    "    return measurement * 0.00378541\n",
    "\n",
    "def f_to_c(measurement):\n",
    "    return (measurement - 32) * 5 / 9\n",
    "\n",
    "def psi_to_pa(measurement):\n",
    "    return measurement * 6894.76"
   ],
   "metadata": {
    "collapsed": false,
    "ExecuteTime": {
     "end_time": "2023-12-13T04:00:51.175115300Z",
     "start_time": "2023-12-13T04:00:51.147339300Z"
    }
   },
   "id": "d2907bc4798a2760"
  },
  {
   "cell_type": "code",
   "execution_count": 5,
   "outputs": [],
   "source": [
    "# Temperature dependent water properties\n",
    "def get_mu(temp):\n",
    "    mu = 0 * temp + 8.9e-4  # Pa*s\n",
    "    return mu\n",
    "\n",
    "def get_rho(temp):\n",
    "    rho = 0 * temp + 1000  # kg/m^3\n",
    "    return rho\n",
    "\n",
    "def get_cp(temp):\n",
    "    cp = temp * 0 + 4200  # J/kg*K\n",
    "    return cp\n",
    "\n",
    "def get_k_fluid(temp):\n",
    "    k_fluid = 0 * temp + 0.6  # W/m*K\n",
    "    return k_fluid"
   ],
   "metadata": {
    "collapsed": false,
    "ExecuteTime": {
     "end_time": "2023-12-13T04:00:51.177594900Z",
     "start_time": "2023-12-13T04:00:51.161723300Z"
    }
   },
   "id": "8141c4e8348addb3"
  },
  {
   "cell_type": "code",
   "execution_count": 6,
   "outputs": [],
   "source": [
    "# Pump curves fit to polynomial in form c1 + c2Q + c3Q^2 + c4Q^3\n",
    "def pump_curve_1():\n",
    "    c1 = 1.4143  # m\n",
    "    c2 = -0.0813  # m/lpm\n",
    "    c3 = -0.0013  # m/lpm^2\n",
    "    c4 = -0.0005   # m/lpm^3\n",
    "    return c1, c2, c3, c4\n",
    "\n",
    "def pump_curve_2():\n",
    "    c1 = 2.8185\n",
    "    c2 = -0.1978\n",
    "    c3 = -0.0143\n",
    "    c4 = -0.0052\n",
    "    return c1, c2, c3, c4\n",
    "    \n",
    "def pump_curve_3():\n",
    "    c1 = 2.3248\n",
    "    c2 = -0.1071\n",
    "    c3 = -0.0045\n",
    "    c4 = -0.0002\n",
    "    return c1, c2, c3, c4\n",
    "\n",
    "# Calculate the intersection of the h_req curve with the pump curve\n",
    "def intersection(pump_num, input_curve):\n",
    "    return 1"
   ],
   "metadata": {
    "collapsed": false,
    "ExecuteTime": {
     "end_time": "2023-12-13T04:00:51.217278Z",
     "start_time": "2023-12-13T04:00:51.176106800Z"
    }
   },
   "id": "4ffc6ec0d498f41c"
  },
  {
   "cell_type": "code",
   "execution_count": 7,
   "outputs": [],
   "source": [
    "# Convert to SI units\n",
    "delta_h = in_to_m(delta_h)\n",
    "thickness = mm_to_m(thickness)\n",
    "D_i = cm_to_m(D_i)\n",
    "D_o = cm_to_m(D_o)\n",
    "V_wort = gal_to_m3(V_wort)\n",
    "T_0_wort = f_to_c(T_0_wort)\n",
    "T_f_wort = f_to_c(T_f_wort)\n",
    "T_city = f_to_c(T_city)\n",
    "P_water = psi_to_pa(P_water)\n",
    "\n",
    "# Derived values\n",
    "D_h_out = D_o - (D_i + 2 * thickness)\n",
    "rho_city = get_rho(T_city)\n",
    "mu_city = get_mu(T_city)"
   ],
   "metadata": {
    "collapsed": false,
    "ExecuteTime": {
     "end_time": "2023-12-13T04:00:51.217774600Z",
     "start_time": "2023-12-13T04:00:51.193963500Z"
    }
   },
   "id": "7a91007a400a3cf3"
  },
  {
   "cell_type": "code",
   "execution_count": 12,
   "outputs": [],
   "source": [
    "# Reynolds Number Equation\n",
    "def reynolds(rho, v, D, mu):\n",
    "    return rho * v * D / mu\n",
    "\n",
    "# Friction Factor Equations\n",
    "def friction_factor(Re):\n",
    "    return (0.79 * math.log(Re) - 1.64) ** -2\n",
    "\n",
    "# Calculates the mean flow velocity\n",
    "def u_m(pressure_grad, hydraulic_diameter, friction_factor, density):\n",
    "    return math.sqrt(2 * pressure_grad * hydraulic_diameter / (friction_factor * density))\n",
    "\n",
    "# Calculates the mass flow rate\n",
    "def m_dot(velocity, area, density):\n",
    "    return velocity * density * area"
   ],
   "metadata": {
    "collapsed": false,
    "ExecuteTime": {
     "end_time": "2023-12-13T04:09:39.356133700Z",
     "start_time": "2023-12-13T04:09:39.317428700Z"
    }
   },
   "id": "f1cdae7ae125f508"
  },
  {
   "cell_type": "code",
   "execution_count": 30,
   "outputs": [],
   "source": [
    "# function to calculate flow rate of the city water\n",
    "def outer_flow(P_outside, f_guess):\n",
    "    delta_p_city = P_outside - P_atm # Pa\n",
    "    pressure_gradient = delta_p_city / length  # Pa/m\n",
    "    \n",
    "    # Iterate until a solution is found\n",
    "    converged = False\n",
    "    i = 0\n",
    "    v_out = u_m(pressure_gradient, D_h_out, f_guess, rho_city)  # m/s\n",
    "    print(f\"Starting with f_guess = {f_guess}, v_out = {v_out}\\n\")\n",
    "    print(\"Update Loop:\")\n",
    "    while not converged:\n",
    "        Re_out = reynolds(rho_city, v_out, D_h_out, mu_city)\n",
    "        f_update = friction_factor(Re_out)\n",
    "        df = abs(f_update - f_guess)\n",
    "        if df <= f_guess * 0.1:\n",
    "            converged = True\n",
    "            f_out = f_update\n",
    "            Re_out = reynolds(rho_city, v_out, D_h_out, mu_city)\n",
    "        else:\n",
    "            f_guess = f_update\n",
    "        v_out = u_m(pressure_gradient, D_h_out, f_update, rho_city)  # m/s\n",
    "        i += 1\n",
    "        print(f\"{i}: f = {f_update}, v = {v_out}\")\n",
    "    \n",
    "    A_out = math.pi * ((D_o ** 2) / 4 - ((D_i + 2 * thickness) ** 2) / 4)\n",
    "    m_dot_out = m_dot(v_out, A_out, rho_city)\n",
    "    flow_type = \"Turbulent\" if Re_out >= 3500 else \"Laminar\"\n",
    "    print(f\"\\nConverged in {i} iterations\")\n",
    "    print(f\"Friction Factor: {f_out:.5f}\")\n",
    "    print(f\"Reynolds Number: {Re_out:.1f}, flow is {flow_type}\")\n",
    "    print(f\"Mean Velocity: {v_out:.2f} m/s\")\n",
    "    print(f\"Mass Flow: {m_dot_out:.3f} kg/s\")\n",
    "    \n",
    "    return m_dot_out, v_out, Re_out, f_out"
   ],
   "metadata": {
    "collapsed": false,
    "ExecuteTime": {
     "end_time": "2023-12-13T04:21:22.230469600Z",
     "start_time": "2023-12-13T04:21:22.210597700Z"
    }
   },
   "id": "13ecbfd15721a6c6"
  },
  {
   "cell_type": "code",
   "execution_count": 31,
   "outputs": [
    {
     "name": "stdout",
     "output_type": "stream",
     "text": [
      "Starting with f_guess = 0.04, v_out = 2.9055629833132164\n",
      "\n",
      "Update Loop:\n",
      "1: f = 0.0316642697587198, v = 3.265694473327893\n",
      "2: f = 0.03064913563967337, v = 3.3193356787000923\n",
      "\n",
      "Converged in 2 iterations\n",
      "Friction Factor: 0.03065\n",
      "Reynolds Number: 11008.0, flow is Turbulent\n",
      "Mean Velocity: 3.32 m/s\n",
      "Mass Flow: 0.164 kg/s\n"
     ]
    }
   ],
   "source": [
    "# Get city water flow properties\n",
    "m_dot_out, v_out, Re_out, f_out = outer_flow(P_water, 0.04)"
   ],
   "metadata": {
    "collapsed": false,
    "ExecuteTime": {
     "end_time": "2023-12-13T04:21:22.578631700Z",
     "start_time": "2023-12-13T04:21:22.550838700Z"
    }
   },
   "id": "e303230b044897c5"
  },
  {
   "cell_type": "code",
   "execution_count": 11,
   "outputs": [],
   "source": [
    "# Head Loss Equation\n",
    "def head_loss(f, L, D, K, v, g):\n",
    "    return (f * (L / D) + K) * (v ** 2) / (2 * g)"
   ],
   "metadata": {
    "collapsed": false,
    "ExecuteTime": {
     "end_time": "2023-12-13T04:00:51.312528600Z",
     "start_time": "2023-12-13T04:00:51.267391500Z"
    }
   },
   "id": "a36f0798dbf9b6a9"
  },
  {
   "cell_type": "code",
   "execution_count": null,
   "outputs": [],
   "source": [
    "# Get convection coefficient using Nu\n",
    "def convection_coefficient(nusselt, k_fluid, D):\n",
    "    return nusselt * k_fluid / D\n",
    "\n",
    "# get total thermal resistance\n",
    "def thermal_resistance(d_out, d_in, t_tube, nusselt, k_tube, temperature):\n",
    "    # Calculate values for the inside\n",
    "    A_in = (math.pi * d_in ** 2) / 4\n",
    "    k_in = get_k_fluid(temperature)\n",
    "    h_in = convection_coefficient(nusselt, k_in, d_in)\n",
    "    \n",
    "    # Calculate values for the outside\n",
    "    A_out = math.pi * ((d_out ** 2) / 4 - ((d_in + 2 * t_tube) ** 2) / 4)\n",
    "    k_out = get_k_fluid(T_city)\n",
    "    h_out = convection_coefficient(nusselt, k_out, d_out)\n",
    "    \n",
    "    # Check if I need to add length terms\n",
    "    R_tot = 1 / (h_in * A_in) + math.log((d_in + 2 * t_tube)/d_in) / (2 * math.pi * k_tube) + 1 / (h_out * A_out)\n",
    "    return R_tot"
   ],
   "metadata": {
    "collapsed": false
   },
   "id": "2ed91be0c8b8fe9f"
  }
 ],
 "metadata": {
  "kernelspec": {
   "display_name": "Python 3",
   "language": "python",
   "name": "python3"
  },
  "language_info": {
   "codemirror_mode": {
    "name": "ipython",
    "version": 2
   },
   "file_extension": ".py",
   "mimetype": "text/x-python",
   "name": "python",
   "nbconvert_exporter": "python",
   "pygments_lexer": "ipython2",
   "version": "2.7.6"
  }
 },
 "nbformat": 4,
 "nbformat_minor": 5
}
