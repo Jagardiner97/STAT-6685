{
 "cells": [
  {
   "cell_type": "code",
   "execution_count": null,
   "id": "initial_id",
   "metadata": {
    "collapsed": true
   },
   "outputs": [],
   "source": [
    "# Import packages\n",
    "import math"
   ]
  },
  {
   "cell_type": "code",
   "execution_count": null,
   "outputs": [],
   "source": [
    "# Define physical properties\n",
    "length = 8  # m\n",
    "delta_h = 2  # ft\n",
    "thickness = 0.5  # mm\n",
    "D_i = 1  # cm\n",
    "D_o = 1.4  # cm\n",
    "minor_losses = 25\n",
    "V_wort = 6  # gal\n",
    "T_0_wort = 200  # F\n",
    "T_f_wort = 70  # F\n",
    "T_water_in = 50  # F\n",
    "P_water = 80  # psi"
   ],
   "metadata": {
    "collapsed": false
   },
   "id": "110b86c7aa94f36b"
  },
  {
   "cell_type": "code",
   "execution_count": null,
   "outputs": [],
   "source": [
    "# Define material properties\n",
    "k_tube = 1  # units\n",
    "h_water = 1  # units"
   ],
   "metadata": {
    "collapsed": false
   },
   "id": "8f4e9865e75264e2"
  },
  {
   "cell_type": "code",
   "execution_count": null,
   "outputs": [],
   "source": [
    "# Import pump curve\n"
   ],
   "metadata": {
    "collapsed": false
   },
   "id": "4ffc6ec0d498f41c"
  },
  {
   "cell_type": "code",
   "execution_count": null,
   "outputs": [],
   "source": [
    "# Convert to SI units"
   ],
   "metadata": {
    "collapsed": false
   },
   "id": "7a91007a400a3cf3"
  }
 ],
 "metadata": {
  "kernelspec": {
   "display_name": "Python 3",
   "language": "python",
   "name": "python3"
  },
  "language_info": {
   "codemirror_mode": {
    "name": "ipython",
    "version": 2
   },
   "file_extension": ".py",
   "mimetype": "text/x-python",
   "name": "python",
   "nbconvert_exporter": "python",
   "pygments_lexer": "ipython2",
   "version": "2.7.6"
  }
 },
 "nbformat": 4,
 "nbformat_minor": 5
}
