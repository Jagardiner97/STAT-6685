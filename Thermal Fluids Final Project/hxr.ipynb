{
 "cells": [
  {
   "cell_type": "code",
   "execution_count": 29,
   "id": "initial_id",
   "metadata": {
    "collapsed": true,
    "ExecuteTime": {
     "end_time": "2023-12-11T19:08:15.508260Z",
     "start_time": "2023-12-11T19:08:15.498715Z"
    }
   },
   "outputs": [],
   "source": [
    "# Import packages\n",
    "import math"
   ]
  },
  {
   "cell_type": "code",
   "execution_count": 30,
   "outputs": [],
   "source": [
    "# Define physical properties\n",
    "length = 8  # m\n",
    "delta_h = 12  # in.\n",
    "thickness = 0.5  # mm\n",
    "D_i = 0.8  # cm\n",
    "D_o = 1.2  # cm\n",
    "minor_losses = 25\n",
    "V_wort = 6  # gal\n",
    "T_0_wort = 200  # F\n",
    "T_f_wort = 70  # F\n",
    "T_city = 50  # F\n",
    "P_water = 80  # psi"
   ],
   "metadata": {
    "collapsed": false,
    "ExecuteTime": {
     "end_time": "2023-12-11T19:08:15.508504Z",
     "start_time": "2023-12-11T19:08:15.502003Z"
    }
   },
   "id": "110b86c7aa94f36b"
  },
  {
   "cell_type": "code",
   "execution_count": 31,
   "outputs": [],
   "source": [
    "# Define material properties\n",
    "k_tube = 1  # units\n",
    "h_water = 1  # units\n",
    "mu_water = 8.9e-4  # Pa*s\n",
    "P_atm = 101325  # Pa\n",
    "rho_water = 1000  # kg/m^3\n",
    "g = 9.81  # m/s^2"
   ],
   "metadata": {
    "collapsed": false,
    "ExecuteTime": {
     "end_time": "2023-12-11T19:08:15.508708Z",
     "start_time": "2023-12-11T19:08:15.505181Z"
    }
   },
   "id": "8f4e9865e75264e2"
  },
  {
   "cell_type": "code",
   "execution_count": 32,
   "outputs": [],
   "source": [
    "# Import pump curve\n",
    "# pump curve fit to polynomial in form c1 + c2x + c3x^2 + c4x^3"
   ],
   "metadata": {
    "collapsed": false,
    "ExecuteTime": {
     "end_time": "2023-12-11T19:08:15.509898Z",
     "start_time": "2023-12-11T19:08:15.508180Z"
    }
   },
   "id": "4ffc6ec0d498f41c"
  },
  {
   "cell_type": "code",
   "execution_count": 33,
   "outputs": [],
   "source": [
    "# conversion functions\n",
    "def in_to_m(measurement):\n",
    "    return 0.0254 * measurement\n",
    "\n",
    "def mm_to_m(measurement):\n",
    "    return measurement / 1000\n",
    "\n",
    "def cm_to_m(measurement):\n",
    "    return measurement / 100\n",
    "\n",
    "def gal_to_m3(measurement):\n",
    "    return measurement * 0.00378541\n",
    "\n",
    "def f_to_c(measurement):\n",
    "    return (measurement - 32) * 5 / 9\n",
    "\n",
    "def psi_to_pa(measurement):\n",
    "    return measurement * 6894.76"
   ],
   "metadata": {
    "collapsed": false,
    "ExecuteTime": {
     "end_time": "2023-12-11T19:08:15.521472Z",
     "start_time": "2023-12-11T19:08:15.512811Z"
    }
   },
   "id": "5667142d66523e90"
  },
  {
   "cell_type": "code",
   "execution_count": 34,
   "outputs": [],
   "source": [
    "# Convert to SI units\n",
    "delta_h = in_to_m(delta_h)\n",
    "thickness = mm_to_m(thickness)\n",
    "D_i = cm_to_m(D_i)\n",
    "D_o = cm_to_m(D_o)\n",
    "V_wort = gal_to_m3(V_wort)\n",
    "T_0_wort = f_to_c(T_0_wort)\n",
    "T_f_wort = f_to_c(T_f_wort)\n",
    "T_city = f_to_c(T_city)\n",
    "P_water = psi_to_pa(P_water)\n",
    "\n",
    "# Derived values\n",
    "D_h_out = D_o - (D_i + 2 * thickness)"
   ],
   "metadata": {
    "collapsed": false,
    "ExecuteTime": {
     "end_time": "2023-12-11T19:08:15.521820Z",
     "start_time": "2023-12-11T19:08:15.516031Z"
    }
   },
   "id": "7a91007a400a3cf3"
  },
  {
   "cell_type": "code",
   "execution_count": 35,
   "outputs": [],
   "source": [
    "# Head Loss Equation\n",
    "def head_loss(f, L, D, K, v, g):\n",
    "    return (f * (L / D) + K) * (v ** 2) / (2 * g)"
   ],
   "metadata": {
    "collapsed": false,
    "ExecuteTime": {
     "end_time": "2023-12-11T19:08:15.522044Z",
     "start_time": "2023-12-11T19:08:15.518262Z"
    }
   },
   "id": "83be140d6669fede"
  },
  {
   "cell_type": "code",
   "execution_count": 36,
   "outputs": [],
   "source": [
    "# Reynolds Number Equation\n",
    "def reynolds(rho, v, D, mu):\n",
    "    return rho * v * D / mu"
   ],
   "metadata": {
    "collapsed": false,
    "ExecuteTime": {
     "end_time": "2023-12-11T19:08:15.522369Z",
     "start_time": "2023-12-11T19:08:15.520951Z"
    }
   },
   "id": "6614a0b9455d3693"
  },
  {
   "cell_type": "code",
   "execution_count": 66,
   "outputs": [],
   "source": [
    "# Friction Factor Equations\n",
    "def friction_factor(Re):\n",
    "    return (0.79 * math.log(Re) - 1.64) ** -2\n",
    "\n",
    "def ff_check(dp, D, rho, v):\n",
    "    # dp is pressure drop in Pa\n",
    "    return (2 * dp * D) / ( rho * v ** 2)"
   ],
   "metadata": {
    "collapsed": false,
    "ExecuteTime": {
     "end_time": "2023-12-11T19:40:15.593718Z",
     "start_time": "2023-12-11T19:40:15.588147Z"
    }
   },
   "id": "4add6b7a22e67aa6"
  },
  {
   "cell_type": "code",
   "execution_count": 38,
   "outputs": [],
   "source": [
    "# Velocity equation\n",
    "def velocity(dp, dz, h_in, h_l_total, rho, g):\n",
    "    # positive dp is pressure drop, positive dz is drop in height\n",
    "    p_term = dp / (rho * g)\n",
    "    z_term = dz\n",
    "    h_term = h_in - h_l_total\n",
    "    return (2 * g * (p_term + z_term + h_term)) ** (1/2)"
   ],
   "metadata": {
    "collapsed": false,
    "ExecuteTime": {
     "end_time": "2023-12-11T19:08:15.526931Z",
     "start_time": "2023-12-11T19:08:15.525103Z"
    }
   },
   "id": "d4ddf4a8c2fb936b"
  },
  {
   "cell_type": "code",
   "execution_count": 69,
   "outputs": [
    {
     "name": "stdout",
     "output_type": "stream",
     "text": [
      "Head Loss: 0.027183146449201504 m\n",
      "Velocity: 0.6059523633642058 m/s\n",
      "\n",
      "Iteration 0\n",
      "Reynolds Number: 2042.5360562838391\n",
      "Friction Factor: 0.0520938412868271\n",
      "Head Loss: 2.599758932749658 m\n",
      "Velocity: (4.3344002318266035e-16+7.078612763850576j) m/s\n"
     ]
    },
    {
     "ename": "TypeError",
     "evalue": "'<=' not supported between instances of 'float' and 'complex'",
     "output_type": "error",
     "traceback": [
      "\u001B[0;31m---------------------------------------------------------------------------\u001B[0m",
      "\u001B[0;31mTypeError\u001B[0m                                 Traceback (most recent call last)",
      "Cell \u001B[0;32mIn[69], line 25\u001B[0m\n\u001B[1;32m     23\u001B[0m     dv \u001B[38;5;241m=\u001B[39m \u001B[38;5;28mabs\u001B[39m(v_out \u001B[38;5;241m-\u001B[39m v_2)\n\u001B[1;32m     24\u001B[0m     v_out \u001B[38;5;241m=\u001B[39m v_2\n\u001B[0;32m---> 25\u001B[0m     \u001B[38;5;28;01mif\u001B[39;00m \u001B[43mdv\u001B[49m\u001B[43m \u001B[49m\u001B[38;5;241;43m<\u001B[39;49m\u001B[38;5;241;43m=\u001B[39;49m\u001B[43m \u001B[49m\u001B[38;5;241;43m0.05\u001B[39;49m\u001B[43m \u001B[49m\u001B[38;5;241;43m*\u001B[39;49m\u001B[43m \u001B[49m\u001B[43mv_2\u001B[49m:\n\u001B[1;32m     26\u001B[0m         converged \u001B[38;5;241m=\u001B[39m \u001B[38;5;28;01mTrue\u001B[39;00m\n\u001B[1;32m     27\u001B[0m \u001B[38;5;28mprint\u001B[39m(\u001B[38;5;124mf\u001B[39m\u001B[38;5;124m\"\u001B[39m\u001B[38;5;124mCompleted in \u001B[39m\u001B[38;5;132;01m{\u001B[39;00mi\u001B[38;5;132;01m}\u001B[39;00m\u001B[38;5;124m iterations\u001B[39m\u001B[38;5;124m\"\u001B[39m)\n",
      "\u001B[0;31mTypeError\u001B[0m: '<=' not supported between instances of 'float' and 'complex'"
     ]
    }
   ],
   "source": [
    "# Calculate the flow rate of the annulus\n",
    "f = 0.02  # starting guess\n",
    "h_l = head_loss(f, length, D_h_out, 0, 0.1, g)\n",
    "print(f\"Head Loss: {h_l} m\")\n",
    "delta_P = P_water - P_atm\n",
    "\n",
    "# Start by assuming no losses\n",
    "converged = False\n",
    "v_out = velocity(delta_P / 1000, 0, 0, h_l, rho_water, g)\n",
    "print(f\"Velocity: {v_out} m/s\")\n",
    "i = 0\n",
    "while not converged:\n",
    "    print(f\"\\nIteration {i}\")\n",
    "    Re = reynolds(rho_water, v_out, D_h_out, mu_water)\n",
    "    print(f\"Reynolds Number: {Re}\")\n",
    "    f = friction_factor(Re)\n",
    "    print(f\"Friction Factor: {f}\")\n",
    "    h_l = head_loss(f, length, D_h_out, 0, v_out, g)\n",
    "    print(f\"Head Loss: {h_l} m\")\n",
    "    v_2 = velocity(delta_P / 1000, 0, 0, h_l, rho_water, g)\n",
    "    print(f\"Velocity: {v_2} m/s\")\n",
    "    i += 1\n",
    "    dv = abs(v_out - v_2)\n",
    "    v_out = v_2\n",
    "    if dv <= 0.05 * v_2:\n",
    "        converged = True\n",
    "print(f\"Completed in {i} iterations\")\n",
    "print(f\"Flow Velocity of Annulus: {v_out} m/s\")\n",
    "m_dot = rho_water * v_out * math.pi * ((D_o / 2) ** 2 - ((D_i + 2 * thickness) / 2) ** 2)\n",
    "print(f\"Flow Rate of Annulus\")"
   ],
   "metadata": {
    "collapsed": false,
    "ExecuteTime": {
     "end_time": "2023-12-11T19:44:15.434792Z",
     "start_time": "2023-12-11T19:44:15.419728Z"
    }
   },
   "id": "e303230b044897c5"
  },
  {
   "cell_type": "code",
   "execution_count": null,
   "outputs": [],
   "source": [],
   "metadata": {
    "collapsed": false,
    "ExecuteTime": {
     "end_time": "2023-12-11T19:08:15.539935Z",
     "start_time": "2023-12-11T19:08:15.537341Z"
    }
   },
   "id": "a36f0798dbf9b6a9"
  }
 ],
 "metadata": {
  "kernelspec": {
   "display_name": "Python 3",
   "language": "python",
   "name": "python3"
  },
  "language_info": {
   "codemirror_mode": {
    "name": "ipython",
    "version": 2
   },
   "file_extension": ".py",
   "mimetype": "text/x-python",
   "name": "python",
   "nbconvert_exporter": "python",
   "pygments_lexer": "ipython2",
   "version": "2.7.6"
  }
 },
 "nbformat": 4,
 "nbformat_minor": 5
}
