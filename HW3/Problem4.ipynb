{
 "cells": [
  {
   "cell_type": "code",
   "execution_count": 1,
   "id": "initial_id",
   "metadata": {
    "collapsed": true,
    "ExecuteTime": {
     "end_time": "2023-10-11T22:19:56.979711800Z",
     "start_time": "2023-10-11T22:19:56.309463300Z"
    }
   },
   "outputs": [],
   "source": [
    "import numpy as np\n",
    "import torch.nn\n",
    "from sklearn.model_selection import train_test_split\n",
    "from scipy.io import loadmat"
   ]
  },
  {
   "cell_type": "code",
   "execution_count": 2,
   "outputs": [],
   "source": [
    "mnist = loadmat('mnist_49_3000.mat')\n",
    "X = mnist['x']\n",
    "y = mnist['y'][0]\n",
    "\n",
    "X_train, X_test, y_train, y_test = train_test_split(X.T, y, test_size=0.25, random_state=42)"
   ],
   "metadata": {
    "collapsed": false,
    "ExecuteTime": {
     "end_time": "2023-10-11T22:19:57.047940500Z",
     "start_time": "2023-10-11T22:19:56.986747600Z"
    }
   },
   "id": "37baa57740ceef08"
  },
  {
   "cell_type": "code",
   "execution_count": 3,
   "outputs": [],
   "source": [
    "# change -1 to 0 before fitting\n",
    "def converter(inp):\n",
    "    if inp > 0:\n",
    "        return 1\n",
    "    else:\n",
    "        return 0\n",
    "\n",
    "y_train_mod = [converter(val) for val in y_train]\n",
    "y_test_mod = [converter(val) for val in y_test]"
   ],
   "metadata": {
    "collapsed": false,
    "ExecuteTime": {
     "end_time": "2023-10-11T22:19:57.278510200Z",
     "start_time": "2023-10-11T22:19:57.262380600Z"
    }
   },
   "id": "bdcf1e19543ebb0"
  },
  {
   "cell_type": "code",
   "execution_count": null,
   "outputs": [],
   "source": [
    "class LogisticRegression:\n",
    "    def __init__(self, lr=0.01, lamb=10, num_iter=1000, fit_intercept=True):\n",
    "        self.lr = lr\n",
    "        self.lamb = lamb\n",
    "        self.num_iter = num_iter\n",
    "        self.fit_intercept = fit_intercept\n",
    "        \n",
    "    def __add_intercept(self, X):\n",
    "        intercept = np.ones((X.shape[0], 1))\n",
    "        return np.concatenate((intercept, X), axis=1)\n",
    "    \n",
    "    def __sigmoid(self, z):\n",
    "        '''Exercise - Define Sigmoid Function here. z is a vector'''\n",
    "        return 1 / (1 + np.exp(-z))\n",
    "    \n",
    "    def fit(self, X, y):\n",
    "        if self.fit_intercept:\n",
    "            X = self.__add_intercept(X)\n",
    "        \n",
    "        # weights initialization - all zeros\n",
    "        '''Exercise - Initialize theat. What should be the dimension of theta?'''\n",
    "        self.theta = np.shape((X.shape[1], 1))\n",
    "        \n",
    "        for i in range(self.num_iter):\n",
    "            '''Exercise - Implement x^T(theta)'''\n",
    "            z = np.matmul(X.transpose(), self.theta)\n",
    "            h = self.__sigmoid(z)\n",
    "            \n",
    "            '''Exercise - [Critical Step] - Using the formula in question prompt define gradient in vector form'''\n",
    "            gradient = ...\n",
    "            \n",
    "            '''Exercise - [Critical Step] - Update theta using the gradient and learning rate'''\n",
    "            self.theta -= gradient * self.theta\n",
    "    \n",
    "    def predict_prob(self, X):\n",
    "        if self.fit_intercept:\n",
    "            X = self.__add_intercept(X)\n",
    "        \n",
    "        return self.__sigmoid(np.dot(X, self.theta))\n",
    "    \n",
    "    def predict(self, X, threshold):\n",
    "        return self.predict_prob(X) >= threshold"
   ],
   "metadata": {
    "collapsed": false
   },
   "id": "f9675e3557c94b59"
  },
  {
   "cell_type": "code",
   "execution_count": null,
   "outputs": [],
   "source": [
    "# Initialize and train the model\n",
    "'''Exercise - Select and appropriate lambda parameter in ...'''\n",
    "model = LogisticRegression(lamb=0.01)\n",
    "\n",
    "%time model.fit(X_train, y_train_mod) #%time prints out the execution time for the command"
   ],
   "metadata": {
    "collapsed": false
   },
   "id": "13bdc77f2670956"
  },
  {
   "cell_type": "code",
   "execution_count": null,
   "outputs": [],
   "source": [
    "# Generate Predictions\n",
    "preds = model.predict(X_test, 0.5)"
   ],
   "metadata": {
    "collapsed": false
   },
   "id": "506b4f1d4e5607aa"
  }
 ],
 "metadata": {
  "kernelspec": {
   "display_name": "Python 3",
   "language": "python",
   "name": "python3"
  },
  "language_info": {
   "codemirror_mode": {
    "name": "ipython",
    "version": 2
   },
   "file_extension": ".py",
   "mimetype": "text/x-python",
   "name": "python",
   "nbconvert_exporter": "python",
   "pygments_lexer": "ipython2",
   "version": "2.7.6"
  }
 },
 "nbformat": 4,
 "nbformat_minor": 5
}
