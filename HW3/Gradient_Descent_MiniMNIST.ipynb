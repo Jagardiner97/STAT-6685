{
 "cells": [
  {
   "cell_type": "code",
   "execution_count": 10,
   "metadata": {},
   "outputs": [],
   "source": [
    "import numpy as np\n",
    "from sklearn.model_selection import train_test_split\n",
    "from scipy.io import loadmat"
   ]
  },
  {
   "cell_type": "code",
   "execution_count": 36,
   "metadata": {},
   "outputs": [],
   "source": [
    "#Load Mini MNIST from the MATLAB data file - Observe how we load the files\n",
    "\n",
    "mnist = loadmat('mnist_49_3000.mat')\n",
    "X = mnist['x']\n",
    "y = mnist['y'][0]\n",
    "\n",
    "'''\n",
    "Test Train Split for Calculating accuracy on a Held Out Test Dataset.\n",
    "'''\n",
    "X_train, X_test, y_train, y_test = train_test_split(X.T, y, test_size=0.25, random_state=42)"
   ]
  },
  {
   "cell_type": "code",
   "execution_count": 55,
   "metadata": {},
   "outputs": [],
   "source": [
    "#We need to change -1 to 0 before fitting logistic regression.\n",
    "\n",
    "def converter(inp):\n",
    "    if inp > 0:\n",
    "        return 1\n",
    "    else:\n",
    "        return 0\n",
    "\n",
    "y_train_mod = [converter(val) for val in y_train]\n",
    "y_test_mod  = [converter(val) for val in y_test]"
   ]
  },
  {
   "cell_type": "code",
   "execution_count": 93,
   "metadata": {},
   "outputs": [],
   "source": [
    "class LogisticRegression:\n",
    "    \n",
    "    def __init__(self, lr=0.01, lamb = 10, num_iter=1000, fit_intercept=True):\n",
    "        self.lr = lr\n",
    "        self.lamb = lamb\n",
    "        self.num_iter = num_iter\n",
    "        self.fit_intercept = fit_intercept\n",
    "    \n",
    "    def __add_intercept(self, X):\n",
    "        intercept = np.ones((X.shape[0], 1))\n",
    "        return np.concatenate((intercept, X), axis=1) '''Exercise - Why do we add an offset? '''\n",
    "    \n",
    "    def __sigmoid(self, z):\n",
    "        '''Exercise - Define Sigmoid Function here. z is a vector'''\n",
    "    \n",
    "    def fit(self, X, y):\n",
    "        if self.fit_intercept:\n",
    "            X = self.__add_intercept(X)\n",
    "        \n",
    "        # weights initialization - all zeros\n",
    "        self.theta = '''Exercise - Initialize theta. What should be the dimension of theta?'''\n",
    "        \n",
    "        for i in range(self.num_iter):\n",
    "            z = ... '''Exercise - Implement x^T(theta)'''\n",
    "            h = self.__sigmoid(z)\n",
    "            \n",
    "            '''Exercise - [Critical Step] - Using the formula in question prompt define gradient in vector form'''\n",
    "            gradient = ...\n",
    "            \n",
    "            '''Exercise - [Critical Step] - Update theta using the gradient and learning rate'''\n",
    "            self.theta -= ...\n",
    "    \n",
    "    def predict_prob(self, X):\n",
    "        if self.fit_intercept:\n",
    "            X = self.__add_intercept(X)\n",
    "    \n",
    "        return self.__sigmoid(np.dot(X, self.theta))\n",
    "    \n",
    "    def predict(self, X, threshold):\n",
    "        return self.predict_prob(X) >= threshold"
   ]
  },
  {
   "cell_type": "code",
   "execution_count": null,
   "metadata": {},
   "outputs": [],
   "source": [
    "model = LogisticRegression(lamb = ...) '''Exercise - Select an appropriate lambda parameter in ...'''\n",
    "%time model.fit(X_train, y_train_mod) '''Exercise - What is the role of %time in this statement'''\n",
    "\n",
    "#Generate Predictions\n",
    "preds = model.predict(X_test, ...) '''Exercise - Select an appropriate threshold in ...'''\n",
    "\n",
    "# accuracy\n",
    "(preds == y_test_mod).mean() '''Exercise - As you try different lambda observe and report how accuracy changes'''\n"
   ]
  },
  {
   "cell_type": "code",
   "execution_count": null,
   "metadata": {},
   "outputs": [],
   "source": []
  }
 ],
 "metadata": {
  "kernelspec": {
   "display_name": "Python 3",
   "language": "python",
   "name": "python3"
  },
  "language_info": {
   "codemirror_mode": {
    "name": "ipython",
    "version": 3
   },
   "file_extension": ".py",
   "mimetype": "text/x-python",
   "name": "python",
   "nbconvert_exporter": "python",
   "pygments_lexer": "ipython3",
   "version": "3.6.3"
  }
 },
 "nbformat": 4,
 "nbformat_minor": 2
}
