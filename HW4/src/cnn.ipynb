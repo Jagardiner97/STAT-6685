{
 "cells": [
  {
   "cell_type": "code",
   "execution_count": 2,
   "id": "initial_id",
   "metadata": {
    "collapsed": true,
    "ExecuteTime": {
     "end_time": "2023-10-19T19:06:47.595444900Z",
     "start_time": "2023-10-19T19:06:47.573451200Z"
    }
   },
   "outputs": [
    {
     "name": "stdout",
     "output_type": "stream",
     "text": [
      "cuda\n"
     ]
    },
    {
     "data": {
      "text/plain": "<torch._C.Generator at 0x19fa8badd50>"
     },
     "execution_count": 2,
     "metadata": {},
     "output_type": "execute_result"
    }
   ],
   "source": [
    "# Import packages\n",
    "%matplotlib inline\n",
    "import matplotlib.pyplot as plt\n",
    "import numpy as np\n",
    "from sklearn.datasets import fetch_openml\n",
    "from sklearn.model_selection import train_test_split\n",
    "from sklearn.metrics import accuracy_score\n",
    "from sklearn.model_selection import GridSearchCV\n",
    "\n",
    "# Pytorch packages\n",
    "import torch\n",
    "from torch import nn\n",
    "import torch.nn.functional as F\n",
    "import torchvision\n",
    "import torchvision.transforms as transforms\n",
    "from skorch import NeuralNetClassifier\n",
    "\n",
    "# Set the device\n",
    "device = 'cpu'\n",
    "if torch.cuda.is_available():\n",
    "    device = 'cuda'\n",
    "elif torch.has_mps:\n",
    "    device = 'mps'\n",
    "print(device)\n",
    "\n",
    "# Set the seed for torch\n",
    "torch.manual_seed(189898)"
   ]
  },
  {
   "cell_type": "code",
   "execution_count": 4,
   "outputs": [
    {
     "name": "stdout",
     "output_type": "stream",
     "text": [
      "torch.Size([60000, 28, 28])\n"
     ]
    }
   ],
   "source": [
    "# Import the Data\n",
    "mnist = torchvision.datasets.MNIST(root='../data', train=True, transform=transforms.ToTensor(), download=True)\n",
    "test_dataset = torchvision.datasets.MNIST(root='../data', train=False, transform=transforms.ToTensor())\n",
    "\n",
    "X_train = mnist.data\n",
    "y_train = mnist.targets\n",
    "\n",
    "X_test = test_dataset.data\n",
    "y_test = test_dataset.targets\n",
    "\n",
    "'''\n",
    "Step -- Normalize each input from [0.0,1.0] range\n",
    "'''\n",
    "\n",
    "'''\n",
    "Step -- Reshape X to have 4 dimensions: batch_size, channels, height, width\n",
    "'''\n",
    "\n",
    "print(X_train.shape)"
   ],
   "metadata": {
    "collapsed": false,
    "ExecuteTime": {
     "end_time": "2023-10-19T19:20:28.768414700Z",
     "start_time": "2023-10-19T19:20:28.711377400Z"
    }
   },
   "id": "42c50072b1636b0"
  },
  {
   "cell_type": "code",
   "execution_count": 5,
   "outputs": [
    {
     "data": {
      "text/plain": "<Figure size 640x480 with 5 Axes>",
      "image/png": "[encoded data removed]"
     },
     "metadata": {},
     "output_type": "display_data"
    }
   ],
   "source": [
    "def plot_example(X, y):\n",
    "    \"\"\"Plot the first 5 images and their labels in a row\"\"\"\n",
    "    for i, (img, y) in enumerate(zip(X[:5].reshape(5, 28, 28), y[:5])):\n",
    "        plt.subplot(151 + i)\n",
    "        plt.imshow(img)\n",
    "        plt.xticks([])\n",
    "        plt.yticks([])\n",
    "        plt.title(y.item())\n",
    "\n",
    "plot_example(X_train, y_train)"
   ],
   "metadata": {
    "collapsed": false,
    "ExecuteTime": {
     "end_time": "2023-10-19T19:23:47.368953700Z",
     "start_time": "2023-10-19T19:23:47.100480800Z"
    }
   },
   "id": "abaf3f87fc459e4f"
  },
  {
   "cell_type": "markdown",
   "source": [
    "### Part 1\n",
    "10 Pts: Design and train a CNN with at least two convolutional layers, each followed by a maxpooling layer, for the MNIST dataset. Use dropout and L2 regularization on the weights when training the network. Use standard stochastic gradient descent in this part of the problem. Use grid search to tune hyper-parameters. Include your code. Record your final test accuracy and give a description on how you designed the network and briefly on how you made your design choices (e.g., numbers of layers, initialization strategies, parameter tuning, adaptive learning rate or not, momentum or not, etc.). To get full credit, you will need to get an accuracy of at least 98%."
   ],
   "metadata": {
    "collapsed": false
   },
   "id": "ce6f9f18131a3887"
  },
  {
   "cell_type": "code",
   "execution_count": 6,
   "outputs": [],
   "source": [
    "# Build the CNN\n",
    "class CNN(nn.Module):\n",
    "    def __init__(self, dropout=0.4):\n",
    "        super(CNN, self).__init__()\n",
    "        '''\n",
    "        Step -- Fill in the architecture\n",
    "        '''\n",
    "        self.dropout = dropout\n",
    "    \n",
    "    def forward(self, x):\n",
    "        output = 0\n",
    "        '''\n",
    "        Step -- Fil in the forward propagation function here\n",
    "        '''\n",
    "        return output"
   ],
   "metadata": {
    "collapsed": false,
    "ExecuteTime": {
     "end_time": "2023-10-19T19:32:04.529958700Z",
     "start_time": "2023-10-19T19:32:04.488037Z"
    }
   },
   "id": "3125b2cf354603bf"
  },
  {
   "cell_type": "code",
   "execution_count": 7,
   "outputs": [],
   "source": [
    "# Add L1 regularization\n",
    "\n",
    "class RegularizedNetwork(NeuralNetClassifier):\n",
    "    def __init__(self, *args, lambda1=0.01, **kwargs):\n",
    "        super().__init__(*args, **kwargs)\n",
    "        self.lambda1 = lambda1\n",
    "    \n",
    "    '''\n",
    "    *** In submission PDF, explain what this method is doing ***\n",
    "    '''\n",
    "    def get_loss(self, y_pred, y_true, X=None, training=False):\n",
    "        loss = super().get_loss(y_pred, y_true, x=X, training=training)\n",
    "        loss += self.lambda1 * sum([w.abs().sum() for w in self.module_.parameters()])\n",
    "        return loss"
   ],
   "metadata": {
    "collapsed": false,
    "ExecuteTime": {
     "end_time": "2023-10-19T19:32:05.497682100Z",
     "start_time": "2023-10-19T19:32:05.482057700Z"
    }
   },
   "id": "8d5d8b5f763ac80c"
  },
  {
   "cell_type": "code",
   "execution_count": 8,
   "outputs": [
    {
     "name": "stdout",
     "output_type": "stream",
     "text": [
      "CNN()\n"
     ]
    }
   ],
   "source": [
    "cnn = CNN()\n",
    "print(cnn)"
   ],
   "metadata": {
    "collapsed": false,
    "ExecuteTime": {
     "end_time": "2023-10-19T19:32:06.581789400Z",
     "start_time": "2023-10-19T19:32:06.572448200Z"
    }
   },
   "id": "416c6ad3f02253be"
  },
  {
   "cell_type": "code",
   "execution_count": 9,
   "outputs": [],
   "source": [
    "if device != \"cuda\":\n",
    "    print(\"Warning: not using cuda, training performance will be impacted\")\n",
    "    print(f\"Current device is {device}\")"
   ],
   "metadata": {
    "collapsed": false,
    "ExecuteTime": {
     "end_time": "2023-10-19T19:32:08.415111300Z",
     "start_time": "2023-10-19T19:32:08.406105Z"
    }
   },
   "id": "30046baf692894ab"
  },
  {
   "cell_type": "code",
   "execution_count": null,
   "outputs": [],
   "source": [
    "'''\n",
    "Here we define the RegularizedNet. Make sure you use nn.NLLLoss. Thus, you have to use a correct last activation\n",
    "in the forward method of your network\n",
    "\n",
    "We can specify different parameters such as learning rate (lr), our optimizar (start with standard SGD, in 4.3 we will\n",
    "try another ones), batch size etc.\n",
    "To define the arquitecture parameters for CNN write them as module__<name of your parameter> = ....\n",
    "\n",
    "Since we have to train it first with L2 regularization lambda1 should be equal to 0\n",
    "'''\n",
    "cnn = RegularizedNetwork(module = CNN, \n",
    "                     max_epochs = ...,\n",
    "                     criterion = torch.nn.NLLLoss, \n",
    "                     optimizer = ...,\n",
    "                     lr = ..., \n",
    "                     lambda1 = 0,\n",
    "                     module__dropout = ...,\n",
    "                     optimizer__weight_decay = ...,\n",
    "                     device = device)"
   ],
   "metadata": {
    "collapsed": false
   },
   "id": "9f49befef6767b5b"
  },
  {
   "cell_type": "code",
   "execution_count": null,
   "outputs": [],
   "source": [
    "# Train the network\n",
    "cnn.fit(X_train, y_train)\n",
    "y_pred_probs = cnn.predict(X_test)\n",
    "\n",
    "'''\n",
    "Observe the correlation between loss and validation accuracy\n",
    "'''"
   ],
   "metadata": {
    "collapsed": false
   },
   "id": "78cf4384ec4a7036"
  },
  {
   "cell_type": "code",
   "execution_count": null,
   "outputs": [],
   "source": [
    "# Predict for the test set and get accuracy\n",
    "y_pred = cnn.predict(X_test)\n",
    "accuracy_score(y_test, y_pred)"
   ],
   "metadata": {
    "collapsed": false
   },
   "id": "240feb76f87534e2"
  },
  {
   "cell_type": "code",
   "execution_count": null,
   "outputs": [],
   "source": [
    "# Do Grid search to get above 98% accuracy\n",
    "'''\n",
    "Step -- Define a grid with some parameters you believe may give good performance (learning rate, regularization parameter, number of nodes)\n",
    "'''\n",
    "# can use cnn.get_params().keys() to get all tuneable parameters\n",
    "tuneable = cnn.get_params().keys()\n",
    "\n",
    "# Define the grid and do the search\n",
    "grid = {\n",
    "    'lr': [0.001, 0.01, 0.1, 1],\n",
    "}\n",
    "gs = GridSearchCV(cnn, grid, refit=True, cv=5, scoring='accuracy')\n",
    "\n",
    "# Fit the best model and report best score and parameters\n",
    "gs.fit(X_train, y_train)\n",
    "print(gs.best_score_, gs.best_params_)"
   ],
   "metadata": {
    "collapsed": false
   },
   "id": "9562fb7806b15705"
  },
  {
   "cell_type": "markdown",
   "source": [
    "### Part 2\n",
    "10 Pts: Starting with the network you designed in the previous problem, replace L2 regularization with L1 regularization and tune the regularization parameter as well as the learning rate. Explain what the get loss method is doing in the RegularizedNet class. Use two initialization strategies: \n",
    "1) initialize with the weights obtained using L2 regularization and \n",
    "2) initialize randomly. \n",
    " \n",
    " Which initialization strategy worked the best? Based on your results, which regularization worked best on this data?"
   ],
   "metadata": {
    "collapsed": false
   },
   "id": "a8e5a81655f4b270"
  }
 ],
 "metadata": {
  "kernelspec": {
   "display_name": "Python 3",
   "language": "python",
   "name": "python3"
  },
  "language_info": {
   "codemirror_mode": {
    "name": "ipython",
    "version": 2
   },
   "file_extension": ".py",
   "mimetype": "text/x-python",
   "name": "python",
   "nbconvert_exporter": "python",
   "pygments_lexer": "ipython2",
   "version": "2.7.6"
  }
 },
 "nbformat": 4,
 "nbformat_minor": 5
}
