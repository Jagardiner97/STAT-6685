{
 "cells": [
  {
   "cell_type": "code",
   "execution_count": 2,
   "id": "initial_id",
   "metadata": {
    "collapsed": true,
    "ExecuteTime": {
     "end_time": "2023-10-25T18:30:14.623321200Z",
     "start_time": "2023-10-25T18:30:14.598629500Z"
    }
   },
   "outputs": [
    {
     "name": "stdout",
     "output_type": "stream",
     "text": [
      "cuda\n"
     ]
    },
    {
     "data": {
      "text/plain": "<torch._C.Generator at 0x25af6c6dd50>"
     },
     "execution_count": 2,
     "metadata": {},
     "output_type": "execute_result"
    }
   ],
   "source": [
    "# Import packages\n",
    "%matplotlib inline\n",
    "import matplotlib.pyplot as plt\n",
    "import numpy as np\n",
    "from sklearn.datasets import fetch_openml\n",
    "from sklearn.model_selection import train_test_split\n",
    "from sklearn.metrics import accuracy_score\n",
    "from sklearn.model_selection import GridSearchCV\n",
    "\n",
    "# Pytorch packages\n",
    "import torch\n",
    "from torch import nn\n",
    "import torch.nn.functional as F\n",
    "import torchvision\n",
    "import torchvision.transforms as transforms\n",
    "from skorch import NeuralNetClassifier\n",
    "\n",
    "# Set the device\n",
    "device = 'cpu'\n",
    "if torch.cuda.is_available():\n",
    "    device = 'cuda'\n",
    "elif torch.has_mps:\n",
    "    device = 'mps'\n",
    "print(device)\n",
    "\n",
    "# Set the seed for torch\n",
    "torch.manual_seed(189898)"
   ]
  },
  {
   "cell_type": "code",
   "execution_count": 16,
   "outputs": [],
   "source": [
    "# Import the Data\n",
    "mnist = torchvision.datasets.MNIST(root='../data', train=True, transform=transforms.ToTensor(), download=True)\n",
    "test_dataset = torchvision.datasets.MNIST(root='../data', train=False, transform=transforms.ToTensor())\n",
    "\n",
    "# Initialize training set\n",
    "X_train = mnist.data\n",
    "y_train = mnist.targets\n",
    "\n",
    "# Initialize test set\n",
    "X_test = test_dataset.data\n",
    "y_test = test_dataset.targets\n",
    "\n",
    "# Normalize\n",
    "X_train = X_train.float() / 255.0\n",
    "X_test = X_test.float() / 255.0\n",
    "\n",
    "# Reshape to have 4 channels\n",
    "X_train = X_train.unsqueeze(1)\n",
    "X_test = X_test.unsqueeze(1)"
   ],
   "metadata": {
    "collapsed": false,
    "ExecuteTime": {
     "end_time": "2023-10-25T18:47:37.346409200Z",
     "start_time": "2023-10-25T18:47:37.194771900Z"
    }
   },
   "id": "42c50072b1636b0"
  },
  {
   "cell_type": "code",
   "execution_count": 17,
   "outputs": [
    {
     "data": {
      "text/plain": "<Figure size 640x480 with 5 Axes>",
      "image/png": "[encoded data removed]"
     },
     "metadata": {},
     "output_type": "display_data"
    }
   ],
   "source": [
    "def plot_example(X, y):\n",
    "    \"\"\"Plot the first 5 images and their labels in a row\"\"\"\n",
    "    for i, (img, y) in enumerate(zip(X[:5].reshape(5, 28, 28), y[:5])):\n",
    "        plt.subplot(151 + i)\n",
    "        plt.imshow(img)\n",
    "        plt.xticks([])\n",
    "        plt.yticks([])\n",
    "        plt.title(y.item())\n",
    "\n",
    "plot_example(X_train, y_train)"
   ],
   "metadata": {
    "collapsed": false,
    "ExecuteTime": {
     "end_time": "2023-10-25T18:47:47.089402300Z",
     "start_time": "2023-10-25T18:47:46.892704900Z"
    }
   },
   "id": "abaf3f87fc459e4f"
  },
  {
   "cell_type": "markdown",
   "source": [
    "### Part 1\n",
    "10 Pts: Design and train a CNN with at least two convolutional layers, each followed by a maxpooling layer, for the MNIST dataset. Use dropout and L2 regularization on the weights when training the network. Use standard stochastic gradient descent in this part of the problem. Use grid search to tune hyper-parameters. Include your code. Record your final test accuracy and give a description on how you designed the network and briefly on how you made your design choices (e.g., numbers of layers, initialization strategies, parameter tuning, adaptive learning rate or not, momentum or not, etc.). To get full credit, you will need to get an accuracy of at least 98%."
   ],
   "metadata": {
    "collapsed": false
   },
   "id": "ce6f9f18131a3887"
  },
  {
   "cell_type": "code",
   "execution_count": 13,
   "outputs": [],
   "source": [
    "# Build the CNN\n",
    "class CNN(nn.Module):\n",
    "    def __init__(self, dropout=0.4, c1=16, c2=32, l1=128):\n",
    "        super(CNN, self).__init__()\n",
    "        \n",
    "        # Convolutional and Pooling Layers\n",
    "        self.convolution = nn.Sequential(\n",
    "            nn.Conv2d(in_channels=1, out_channels=c1, kernel_size=3, padding=1),\n",
    "            nn.ReLU(),\n",
    "            nn.MaxPool2d(kernel_size=2, stride=2),\n",
    "            nn.Conv2d(in_channels=16, out_channels=c2, kernel_size=3, padding=1),\n",
    "            nn.ReLU(),\n",
    "            nn.MaxPool2d(kernel_size=2, stride=2)\n",
    "        )\n",
    "        \n",
    "        # Linear Layers and Dropout for Classification\n",
    "        self. classification = nn.Sequential(\n",
    "            nn.Linear(c2 * 7 * 7, l1),\n",
    "            nn.ReLU(),\n",
    "            nn.Dropout(dropout),\n",
    "            nn.Linear(l1, 10)\n",
    "        )\n",
    "        \n",
    "    def forward(self, x):\n",
    "        x = self.convolution(x)\n",
    "        x = x.view(x.size(0), -1)\n",
    "        return self.classification(x)"
   ],
   "metadata": {
    "collapsed": false,
    "ExecuteTime": {
     "end_time": "2023-10-19T20:20:56.387347400Z",
     "start_time": "2023-10-19T20:20:56.373875800Z"
    }
   },
   "id": "3125b2cf354603bf"
  },
  {
   "cell_type": "code",
   "execution_count": 14,
   "outputs": [],
   "source": [
    "# Add L1 regularization\n",
    "\n",
    "class RegularizedNetwork(NeuralNetClassifier):\n",
    "    def __init__(self, *args, lambda1=0.01, **kwargs):\n",
    "        super().__init__(*args, **kwargs)\n",
    "        self.lambda1 = lambda1\n",
    "    \n",
    "    '''\n",
    "    *** In submission PDF, explain what this method is doing ***\n",
    "    '''\n",
    "    def get_loss(self, y_pred, y_true, X=None, training=False):\n",
    "        loss = super().get_loss(y_pred, y_true, x=X, training=training)\n",
    "        loss += self.lambda1 * sum([w.abs().sum() for w in self.module_.parameters()])\n",
    "        return loss"
   ],
   "metadata": {
    "collapsed": false,
    "ExecuteTime": {
     "end_time": "2023-10-19T20:20:56.387347400Z",
     "start_time": "2023-10-19T20:20:56.374381Z"
    }
   },
   "id": "8d5d8b5f763ac80c"
  },
  {
   "cell_type": "code",
   "execution_count": 15,
   "outputs": [
    {
     "name": "stdout",
     "output_type": "stream",
     "text": [
      "CNN()\n"
     ]
    }
   ],
   "source": [
    "cnn = CNN()\n",
    "print(cnn)"
   ],
   "metadata": {
    "collapsed": false,
    "ExecuteTime": {
     "end_time": "2023-10-19T20:20:56.392734Z",
     "start_time": "2023-10-19T20:20:56.380705800Z"
    }
   },
   "id": "416c6ad3f02253be"
  },
  {
   "cell_type": "code",
   "execution_count": 16,
   "outputs": [],
   "source": [
    "if device != \"cuda\":\n",
    "    print(\"Warning: not using cuda, training performance will be impacted\")\n",
    "    print(f\"Current device is {device}\")"
   ],
   "metadata": {
    "collapsed": false,
    "ExecuteTime": {
     "end_time": "2023-10-19T20:20:56.392734Z",
     "start_time": "2023-10-19T20:20:56.387347400Z"
    }
   },
   "id": "30046baf692894ab"
  },
  {
   "cell_type": "code",
   "execution_count": 17,
   "outputs": [],
   "source": [
    "'''\n",
    "Here we define the RegularizedNet. Make sure you use nn.NLLLoss. Thus, you have to use a correct last activation\n",
    "in the forward method of your network\n",
    "\n",
    "We can specify different parameters such as learning rate (lr), our optimizar (start with standard SGD, in 4.3 we will\n",
    "try another ones), batch size etc.\n",
    "To define the arquitecture parameters for CNN write them as module__<name of your parameter> = ....\n",
    "\n",
    "Since we have to train it first with L2 regularization lambda1 should be equal to 0\n",
    "'''\n",
    "cnn = RegularizedNetwork(module = CNN, \n",
    "                     max_epochs = ...,\n",
    "                     criterion = torch.nn.NLLLoss, \n",
    "                     optimizer = ...,\n",
    "                     lr = ..., \n",
    "                     lambda1 = 0,\n",
    "                     module__dropout = ...,\n",
    "                     optimizer__weight_decay = ...,\n",
    "                     device = device)"
   ],
   "metadata": {
    "collapsed": false,
    "ExecuteTime": {
     "end_time": "2023-10-19T20:20:56.398709100Z",
     "start_time": "2023-10-19T20:20:56.392734Z"
    }
   },
   "id": "9f49befef6767b5b"
  },
  {
   "cell_type": "code",
   "execution_count": 18,
   "outputs": [
    {
     "ename": "TypeError",
     "evalue": "'ellipsis' object is not callable",
     "output_type": "error",
     "traceback": [
      "\u001B[1;31m---------------------------------------------------------------------------\u001B[0m",
      "\u001B[1;31mTypeError\u001B[0m                                 Traceback (most recent call last)",
      "Cell \u001B[1;32mIn[18], line 2\u001B[0m\n\u001B[0;32m      1\u001B[0m \u001B[38;5;66;03m# Train the network\u001B[39;00m\n\u001B[1;32m----> 2\u001B[0m \u001B[43mcnn\u001B[49m\u001B[38;5;241;43m.\u001B[39;49m\u001B[43mfit\u001B[49m\u001B[43m(\u001B[49m\u001B[43mX_train\u001B[49m\u001B[43m,\u001B[49m\u001B[43m \u001B[49m\u001B[43my_train\u001B[49m\u001B[43m)\u001B[49m\n\u001B[0;32m      3\u001B[0m y_pred_probs \u001B[38;5;241m=\u001B[39m cnn\u001B[38;5;241m.\u001B[39mpredict(X_test)\n\u001B[0;32m      5\u001B[0m \u001B[38;5;124;03m'''\u001B[39;00m\n\u001B[0;32m      6\u001B[0m \u001B[38;5;124;03mObserve the correlation between loss and validation accuracy\u001B[39;00m\n\u001B[0;32m      7\u001B[0m \u001B[38;5;124;03m'''\u001B[39;00m\n",
      "File \u001B[1;32m~\\AppData\\Local\\Programs\\Python\\Python311\\Lib\\site-packages\\skorch\\classifier.py:165\u001B[0m, in \u001B[0;36mNeuralNetClassifier.fit\u001B[1;34m(self, X, y, **fit_params)\u001B[0m\n\u001B[0;32m    154\u001B[0m \u001B[38;5;250m\u001B[39m\u001B[38;5;124;03m\"\"\"See ``NeuralNet.fit``.\u001B[39;00m\n\u001B[0;32m    155\u001B[0m \n\u001B[0;32m    156\u001B[0m \u001B[38;5;124;03mIn contrast to ``NeuralNet.fit``, ``y`` is non-optional to\u001B[39;00m\n\u001B[1;32m   (...)\u001B[0m\n\u001B[0;32m    160\u001B[0m \n\u001B[0;32m    161\u001B[0m \u001B[38;5;124;03m\"\"\"\u001B[39;00m\n\u001B[0;32m    162\u001B[0m \u001B[38;5;66;03m# pylint: disable=useless-super-delegation\u001B[39;00m\n\u001B[0;32m    163\u001B[0m \u001B[38;5;66;03m# this is actually a pylint bug:\u001B[39;00m\n\u001B[0;32m    164\u001B[0m \u001B[38;5;66;03m# https://github.com/PyCQA/pylint/issues/1085\u001B[39;00m\n\u001B[1;32m--> 165\u001B[0m \u001B[38;5;28;01mreturn\u001B[39;00m \u001B[38;5;28;43msuper\u001B[39;49m\u001B[43m(\u001B[49m\u001B[43mNeuralNetClassifier\u001B[49m\u001B[43m,\u001B[49m\u001B[43m \u001B[49m\u001B[38;5;28;43mself\u001B[39;49m\u001B[43m)\u001B[49m\u001B[38;5;241;43m.\u001B[39;49m\u001B[43mfit\u001B[49m\u001B[43m(\u001B[49m\u001B[43mX\u001B[49m\u001B[43m,\u001B[49m\u001B[43m \u001B[49m\u001B[43my\u001B[49m\u001B[43m,\u001B[49m\u001B[43m \u001B[49m\u001B[38;5;241;43m*\u001B[39;49m\u001B[38;5;241;43m*\u001B[39;49m\u001B[43mfit_params\u001B[49m\u001B[43m)\u001B[49m\n",
      "File \u001B[1;32m~\\AppData\\Local\\Programs\\Python\\Python311\\Lib\\site-packages\\skorch\\net.py:1317\u001B[0m, in \u001B[0;36mNeuralNet.fit\u001B[1;34m(self, X, y, **fit_params)\u001B[0m\n\u001B[0;32m   1285\u001B[0m \u001B[38;5;250m\u001B[39m\u001B[38;5;124;03m\"\"\"Initialize and fit the module.\u001B[39;00m\n\u001B[0;32m   1286\u001B[0m \n\u001B[0;32m   1287\u001B[0m \u001B[38;5;124;03mIf the module was already initialized, by calling fit, the\u001B[39;00m\n\u001B[1;32m   (...)\u001B[0m\n\u001B[0;32m   1314\u001B[0m \n\u001B[0;32m   1315\u001B[0m \u001B[38;5;124;03m\"\"\"\u001B[39;00m\n\u001B[0;32m   1316\u001B[0m \u001B[38;5;28;01mif\u001B[39;00m \u001B[38;5;129;01mnot\u001B[39;00m \u001B[38;5;28mself\u001B[39m\u001B[38;5;241m.\u001B[39mwarm_start \u001B[38;5;129;01mor\u001B[39;00m \u001B[38;5;129;01mnot\u001B[39;00m \u001B[38;5;28mself\u001B[39m\u001B[38;5;241m.\u001B[39minitialized_:\n\u001B[1;32m-> 1317\u001B[0m     \u001B[38;5;28;43mself\u001B[39;49m\u001B[38;5;241;43m.\u001B[39;49m\u001B[43minitialize\u001B[49m\u001B[43m(\u001B[49m\u001B[43m)\u001B[49m\n\u001B[0;32m   1319\u001B[0m \u001B[38;5;28mself\u001B[39m\u001B[38;5;241m.\u001B[39mpartial_fit(X, y, \u001B[38;5;241m*\u001B[39m\u001B[38;5;241m*\u001B[39mfit_params)\n\u001B[0;32m   1320\u001B[0m \u001B[38;5;28;01mreturn\u001B[39;00m \u001B[38;5;28mself\u001B[39m\n",
      "File \u001B[1;32m~\\AppData\\Local\\Programs\\Python\\Python311\\Lib\\site-packages\\skorch\\net.py:905\u001B[0m, in \u001B[0;36mNeuralNet.initialize\u001B[1;34m(self)\u001B[0m\n\u001B[0;32m    903\u001B[0m \u001B[38;5;28mself\u001B[39m\u001B[38;5;241m.\u001B[39m_initialize_module()\n\u001B[0;32m    904\u001B[0m \u001B[38;5;28mself\u001B[39m\u001B[38;5;241m.\u001B[39m_initialize_criterion()\n\u001B[1;32m--> 905\u001B[0m \u001B[38;5;28;43mself\u001B[39;49m\u001B[38;5;241;43m.\u001B[39;49m\u001B[43m_initialize_optimizer\u001B[49m\u001B[43m(\u001B[49m\u001B[43m)\u001B[49m\n\u001B[0;32m    906\u001B[0m \u001B[38;5;28mself\u001B[39m\u001B[38;5;241m.\u001B[39m_initialize_history()\n\u001B[0;32m    908\u001B[0m \u001B[38;5;28mself\u001B[39m\u001B[38;5;241m.\u001B[39m_validate_params()\n",
      "File \u001B[1;32m~\\AppData\\Local\\Programs\\Python\\Python311\\Lib\\site-packages\\skorch\\net.py:876\u001B[0m, in \u001B[0;36mNeuralNet._initialize_optimizer\u001B[1;34m(self, reason)\u001B[0m\n\u001B[0;32m    873\u001B[0m         msg \u001B[38;5;241m=\u001B[39m \u001B[38;5;28mself\u001B[39m\u001B[38;5;241m.\u001B[39m_format_reinit_msg(\u001B[38;5;124m\"\u001B[39m\u001B[38;5;124moptimizer\u001B[39m\u001B[38;5;124m\"\u001B[39m, triggered_directly\u001B[38;5;241m=\u001B[39m\u001B[38;5;28;01mFalse\u001B[39;00m)\n\u001B[0;32m    874\u001B[0m     \u001B[38;5;28mprint\u001B[39m(msg)\n\u001B[1;32m--> 876\u001B[0m \u001B[38;5;28;43mself\u001B[39;49m\u001B[38;5;241;43m.\u001B[39;49m\u001B[43minitialize_optimizer\u001B[49m\u001B[43m(\u001B[49m\u001B[43m)\u001B[49m\n\u001B[0;32m    878\u001B[0m \u001B[38;5;66;03m# register the virtual params for all optimizers\u001B[39;00m\n\u001B[0;32m    879\u001B[0m \u001B[38;5;28;01mfor\u001B[39;00m name \u001B[38;5;129;01min\u001B[39;00m \u001B[38;5;28mself\u001B[39m\u001B[38;5;241m.\u001B[39m_optimizers:\n",
      "File \u001B[1;32m~\\AppData\\Local\\Programs\\Python\\Python311\\Lib\\site-packages\\skorch\\net.py:642\u001B[0m, in \u001B[0;36mNeuralNet.initialize_optimizer\u001B[1;34m(self, triggered_directly)\u001B[0m\n\u001B[0;32m    638\u001B[0m args, kwargs \u001B[38;5;241m=\u001B[39m \u001B[38;5;28mself\u001B[39m\u001B[38;5;241m.\u001B[39mget_params_for_optimizer(\n\u001B[0;32m    639\u001B[0m     \u001B[38;5;124m'\u001B[39m\u001B[38;5;124moptimizer\u001B[39m\u001B[38;5;124m'\u001B[39m, named_parameters)\n\u001B[0;32m    641\u001B[0m \u001B[38;5;66;03m# pylint: disable=attribute-defined-outside-init\u001B[39;00m\n\u001B[1;32m--> 642\u001B[0m \u001B[38;5;28mself\u001B[39m\u001B[38;5;241m.\u001B[39moptimizer_ \u001B[38;5;241m=\u001B[39m \u001B[38;5;28;43mself\u001B[39;49m\u001B[38;5;241;43m.\u001B[39;49m\u001B[43moptimizer\u001B[49m\u001B[43m(\u001B[49m\u001B[38;5;241;43m*\u001B[39;49m\u001B[43margs\u001B[49m\u001B[43m,\u001B[49m\u001B[43m \u001B[49m\u001B[38;5;241;43m*\u001B[39;49m\u001B[38;5;241;43m*\u001B[39;49m\u001B[43mkwargs\u001B[49m\u001B[43m)\u001B[49m\n\u001B[0;32m    643\u001B[0m \u001B[38;5;28;01mreturn\u001B[39;00m \u001B[38;5;28mself\u001B[39m\n",
      "\u001B[1;31mTypeError\u001B[0m: 'ellipsis' object is not callable"
     ]
    }
   ],
   "source": [
    "# Train the network\n",
    "cnn.fit(X_train, y_train)\n",
    "y_pred_probs = cnn.predict(X_test)\n",
    "\n",
    "'''\n",
    "Observe the correlation between loss and validation accuracy\n",
    "'''"
   ],
   "metadata": {
    "collapsed": false,
    "ExecuteTime": {
     "end_time": "2023-10-19T20:20:56.733776400Z",
     "start_time": "2023-10-19T20:20:56.398709100Z"
    }
   },
   "id": "78cf4384ec4a7036"
  },
  {
   "cell_type": "code",
   "execution_count": null,
   "outputs": [],
   "source": [
    "# Predict for the test set and get accuracy\n",
    "y_pred = cnn.predict(X_test)\n",
    "accuracy_score(y_test, y_pred)"
   ],
   "metadata": {
    "collapsed": false,
    "ExecuteTime": {
     "end_time": "2023-10-19T20:20:56.733776400Z",
     "start_time": "2023-10-19T20:20:56.733776400Z"
    }
   },
   "id": "240feb76f87534e2"
  },
  {
   "cell_type": "code",
   "execution_count": null,
   "outputs": [],
   "source": [
    "# Do Grid search to get above 98% accuracy\n",
    "'''\n",
    "Step -- Define a grid with some parameters you believe may give good performance (learning rate, regularization parameter, number of nodes)\n",
    "'''\n",
    "# can use cnn.get_params().keys() to get all tuneable parameters\n",
    "tuneable = cnn.get_params().keys()\n",
    "\n",
    "# Define the grid and do the search\n",
    "grid = {\n",
    "    'lr': [0.001, 0.01, 0.1, 1],\n",
    "}\n",
    "gs = GridSearchCV(cnn, grid, refit=True, cv=5, scoring='accuracy')\n",
    "\n",
    "# Fit the best model and report best score and parameters\n",
    "gs.fit(X_train, y_train)\n",
    "print(gs.best_score_, gs.best_params_)"
   ],
   "metadata": {
    "collapsed": false,
    "ExecuteTime": {
     "end_time": "2023-10-19T20:20:56.739730500Z",
     "start_time": "2023-10-19T20:20:56.733776400Z"
    }
   },
   "id": "9562fb7806b15705"
  },
  {
   "cell_type": "markdown",
   "source": [
    "### Part 2\n",
    "10 Pts: Starting with the network you designed in the previous problem, replace L2 regularization with L1 regularization and tune the regularization parameter as well as the learning rate. Explain what the get loss method is doing in the RegularizedNet class. Use two initialization strategies: \n",
    "1) initialize with the weights obtained using L2 regularization and \n",
    "2) initialize randomly. \n",
    " \n",
    " Which initialization strategy worked the best? Based on your results, which regularization worked best on this data?"
   ],
   "metadata": {
    "collapsed": false
   },
   "id": "a8e5a81655f4b270"
  },
  {
   "cell_type": "markdown",
   "source": [
    "### Part 3\n",
    "10 Pts: Start with the best network you have obtained so far. Keeping the same hyperparameters of this network, you will now apply several different optimizers to retrain the network. \n",
    "(a) Use the following approaches to optimization: 1) standard SGD; 2) SGD with momentum; 3) AdaGrad; 4) Adam. Tune any of the associated parameters including the global learning rate using the validation accuracy. Report the final parameters selected in each case, and the final test accuracy in each case. Provide two plots with the results from all four approaches: 1) the training cost vs the number of epochs and 2) the validation accuracy vs the number of epochs. Which optimization approach seems to be working the best and why?\n",
    "(b) Pick one of the optimization approaches above. Using the same network, apply batch normalization to each of the hidden layers and retune the (global) learning rate using the validation accuracy. Report the new learning rate and the final test accuracy. Does batch normalization seem to help in this case?"
   ],
   "metadata": {
    "collapsed": false
   },
   "id": "48acc1ea78aaa6d9"
  }
 ],
 "metadata": {
  "kernelspec": {
   "display_name": "Python 3",
   "language": "python",
   "name": "python3"
  },
  "language_info": {
   "codemirror_mode": {
    "name": "ipython",
    "version": 2
   },
   "file_extension": ".py",
   "mimetype": "text/x-python",
   "name": "python",
   "nbconvert_exporter": "python",
   "pygments_lexer": "ipython2",
   "version": "2.7.6"
  }
 },
 "nbformat": 4,
 "nbformat_minor": 5
}
